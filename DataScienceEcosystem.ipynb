{
 "cells": [
  {
   "cell_type": "markdown",
   "id": "68e6d83d-e2ab-438b-a648-f3fa507aea67",
   "metadata": {},
   "source": [
    "In this notebook,Data Science Tools and Ecosystem are summarized. "
   ]
  },
  {
   "cell_type": "markdown",
   "id": "f89ff1a8-7a7a-4b90-9409-c93dd44beca8",
   "metadata": {},
   "source": [
    "Data Science Tools and Ecosystem"
   ]
  },
  {
   "cell_type": "markdown",
   "id": "fee6f406-7664-4498-b990-5a48af4e2ced",
   "metadata": {},
   "source": [
    "In this notebook,Data Science Tools and Ecosystem are summarized."
   ]
  },
  {
   "cell_type": "markdown",
   "id": "bf38aa20-4a21-468e-8501-ac28defaca32",
   "metadata": {},
   "source": [
    "Some of the popular languages that Data Scientists use are:\n",
    "Ordered List\n",
    "1 Python\n",
    "2 java\n",
    "3 C++"
   ]
  },
  {
   "cell_type": "markdown",
   "id": "ca7666e5-4e0e-4dec-a344-5178a10a1d21",
   "metadata": {
    "editable": true,
    "slideshow": {
     "slide_type": ""
    },
    "tags": []
   },
   "source": [
    "Objectives\n",
    "Unordered List\n",
    "Libraries\n",
    "Data Science Tools\n",
    "GitHub\n"
   ]
  },
  {
   "cell_type": "markdown",
   "id": "95113baf-f088-4f97-b380-12e5a7276c2f",
   "metadata": {},
   "source": [
    "Some of the commonly used libraries used by Data Scientists include:\n",
    "Ordered List\n",
    "1 Python Libraries\n",
    "2 Jupiter Libraies\n",
    "3 Watson Libraries"
   ]
  },
  {
   "cell_type": "markdown",
   "id": "9463ab7d-b2dd-4cf9-926d-4084c4aea20c",
   "metadata": {},
   "source": [
    "Data Science Tools\n",
    "Anaconda\n",
    "Google Colab\n",
    "Watson"
   ]
  },
  {
   "cell_type": "markdown",
   "id": "2a21b286-6d3f-4087-b8c6-e1e5cfb31561",
   "metadata": {},
   "source": [
    "Below are a few examples of evaluating aritmetic expressions in Python\n",
    "(2+4) * (4+6)\r",
    "x=min(5,90,10)*x<-2 then x+4 .......60  \n"
   ]
  },
  {
   "cell_type": "code",
   "execution_count": 2,
   "id": "97351739-aa6c-47d7-8f4b-6760634aff9c",
   "metadata": {},
   "outputs": [
    {
     "data": {
      "text/plain": [
       "17"
      ]
     },
     "execution_count": 2,
     "metadata": {},
     "output_type": "execute_result"
    }
   ],
   "source": [
    "3*4+5"
   ]
  },
  {
   "cell_type": "markdown",
   "id": "17770155-63b8-4722-90ad-03dd1db28509",
   "metadata": {},
   "source": [
    "Convert minutes to hour"
   ]
  },
  {
   "cell_type": "code",
   "execution_count": 5,
   "id": "bfdd9470-1380-4676-aa10-19bcaf377dea",
   "metadata": {},
   "outputs": [
    {
     "data": {
      "text/plain": [
       "3.3333333333333335"
      ]
     },
     "execution_count": 5,
     "metadata": {},
     "output_type": "execute_result"
    }
   ],
   "source": [
    "200 * (1 /60) # This will convert 200 minutes to hours by dividing by 60"
   ]
  },
  {
   "cell_type": "markdown",
   "id": "d7345c30-a72b-4cdd-8078-dfff91e7b0de",
   "metadata": {},
   "source": [
    "Author: Marvin Moore"
   ]
  }
 ],
 "metadata": {
  "kernelspec": {
   "display_name": "Python 3 (ipykernel)",
   "language": "python",
   "name": "python3"
  },
  "language_info": {
   "codemirror_mode": {
    "name": "ipython",
    "version": 3
   },
   "file_extension": ".py",
   "mimetype": "text/x-python",
   "name": "python",
   "nbconvert_exporter": "python",
   "pygments_lexer": "ipython3",
   "version": "3.11.9"
  }
 },
 "nbformat": 4,
 "nbformat_minor": 5
}
